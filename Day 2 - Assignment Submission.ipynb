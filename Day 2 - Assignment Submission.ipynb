{
 "cells": [
  {
   "cell_type": "markdown",
   "metadata": {},
   "source": [
    "# Question 1\n",
    "Write a Python program to print even numbers in a list.\n",
    " Sample:\n",
    "- Input: list1 = [12, 3, 55, 6, 144]\n",
    "Output: [12, 6, 144]\n",
    "- Input: list2 = [2, 10, 9, 37]\n",
    "Output: [2, 10]"
   ]
  },
  {
   "cell_type": "code",
   "execution_count": 1,
   "metadata": {},
   "outputs": [
    {
     "name": "stdout",
     "output_type": "stream",
     "text": [
      "12 6 144 \n",
      "2 10 "
     ]
    }
   ],
   "source": [
    "# list of numbers \n",
    "list1 = [12, 3, 55, 6, 144]\n",
    "list2 = [2, 10, 9, 37]\n",
    "\n",
    "for num in list1:       \n",
    "    if num % 2 == 0:\n",
    "        print(num, end = \" \") \n",
    "print()\n",
    "for num in list2:        \n",
    "    if num % 2 == 0:\n",
    "        print(num, end = \" \")"
   ]
  },
  {
   "cell_type": "code",
   "execution_count": null,
   "metadata": {},
   "outputs": [],
   "source": []
  },
  {
   "cell_type": "markdown",
   "metadata": {},
   "source": [
    "# Question 2\n",
    "Write a program to print the following pattern\n",
    "     1\n",
    "    22\n",
    "   333\n",
    "  4444\n",
    " 55555"
   ]
  },
  {
   "cell_type": "code",
   "execution_count": 2,
   "metadata": {},
   "outputs": [
    {
     "name": "stdout",
     "output_type": "stream",
     "text": [
      "       \n",
      "      1\n",
      "     22\n",
      "    333\n",
      "   4444\n",
      "  55555\n"
     ]
    }
   ],
   "source": [
    "for i in range(6):\n",
    "    print(\" \" * (6-i), str(i) * i)"
   ]
  },
  {
   "cell_type": "code",
   "execution_count": null,
   "metadata": {},
   "outputs": [],
   "source": []
  }
 ],
 "metadata": {
  "kernelspec": {
   "display_name": "Python 3",
   "language": "python",
   "name": "python3"
  },
  "language_info": {
   "codemirror_mode": {
    "name": "ipython",
    "version": 3
   },
   "file_extension": ".py",
   "mimetype": "text/x-python",
   "name": "python",
   "nbconvert_exporter": "python",
   "pygments_lexer": "ipython3",
   "version": "3.7.6"
  }
 },
 "nbformat": 4,
 "nbformat_minor": 4
}
